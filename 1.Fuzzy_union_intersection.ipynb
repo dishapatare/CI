{
  "nbformat": 4,
  "nbformat_minor": 0,
  "metadata": {
    "colab": {
      "provenance": []
    },
    "kernelspec": {
      "name": "python3",
      "display_name": "Python 3"
    },
    "language_info": {
      "name": "python"
    }
  },
  "cells": [
    {
      "cell_type": "markdown",
      "source": [
        "**Name : Disha Patare** <br>\n",
        "**Problem Statement:**\n",
        "Implement Union, Intersection, Complement and Difference operations on fuzzy sets. Also create fuzzy relations by Cartesian product of any two fuzzy sets and perform max-mi composition on any two fuzzy relations."
      ],
      "metadata": {
        "id": "E47nEUl6Jwuo"
      }
    },
    {
      "cell_type": "markdown",
      "source": [
        "--------------------------------------------------------------------------\n",
        "**Defining All Functions**"
      ],
      "metadata": {
        "id": "FXIQ7NVsNfTd"
      }
    },
    {
      "cell_type": "code",
      "execution_count": null,
      "metadata": {
        "id": "Pg7Gv690Jfux"
      },
      "outputs": [],
      "source": [
        "def fuzzy_union(A, B):\n",
        "    return {x: max(A.get(x, 0), B.get(x, 0)) for x in set(A) | set(B)}\n",
        "\n",
        "def fuzzy_intersection(A, B):\n",
        "    return {x: min(A.get(x, 0), B.get(x, 0)) for x in set(A) | set(B)}\n",
        "\n",
        "def fuzzy_complement(A):\n",
        "    return {x: round(1 - A[x], 2) for x in A}\n",
        "\n",
        "def fuzzy_difference(A, B):\n",
        "    return {x: min(A.get(x, 0), 1 - B.get(x, 0)) for x in set(A) | set(B)}\n",
        "\n",
        "def fuzzy_cartesian_product(A, B):\n",
        "    return {(x, y): min(A[x], B[y]) for x in A for y in B}\n",
        "\n",
        "def max_min_composition(R, S):\n",
        "    result = {}\n",
        "    for (x, y1) in R:\n",
        "        for (y2, z) in S:\n",
        "            if y1 == y2:\n",
        "                key = (x, z)\n",
        "                value = min(R[(x, y1)], S[(y2, z)])\n",
        "                if key in result:\n",
        "                    result[key] = max(result[key], value)\n",
        "                else:\n",
        "                    result[key] = value\n",
        "    return result"
      ]
    },
    {
      "cell_type": "markdown",
      "source": [
        "**Creating Fuzzy sets and Relations**"
      ],
      "metadata": {
        "id": "-mlt-NwBNqdz"
      }
    },
    {
      "cell_type": "code",
      "source": [
        "#Fuzzy sets\n",
        "A = {'x1': 0.3, 'x2': 0.7}\n",
        "B = {'y1': 0.6, 'y2': 0.4}\n",
        "\n",
        "#Fuzzy relations\n",
        "R = {('x1', 'y1'): 0.3, ('x1', 'y2'): 0.7}\n",
        "S = {('y1', 'z1'): 0.5, ('y2', 'z1'): 0.8}"
      ],
      "metadata": {
        "id": "bsZj5_-TJkeQ"
      },
      "execution_count": null,
      "outputs": []
    },
    {
      "cell_type": "markdown",
      "source": [
        "**Displaying Results**"
      ],
      "metadata": {
        "id": "3Sll6pKzNuKD"
      }
    },
    {
      "cell_type": "code",
      "source": [
        "print(\"Fuzzy Union:\", fuzzy_union(A, B))\n",
        "print(\"\\nFuzzy Intersection:\", fuzzy_intersection(A, B))\n",
        "print(\"\\nFuzzy Complement of A:\", fuzzy_complement(A))\n",
        "print(\"\\nFuzzy Difference (A - B):\", fuzzy_difference(A, B))\n",
        "print(\"\\nFuzzy Cartesian Product (A x B):\", fuzzy_cartesian_product(A, B))\n",
        "print(\"\\nMax-Min Composition (R ∘ S):\", max_min_composition(R, S))"
      ],
      "metadata": {
        "colab": {
          "base_uri": "https://localhost:8080/"
        },
        "id": "6yluLBTWJpgZ",
        "outputId": "774b0f47-1851-457a-b7f9-6d72e838261c"
      },
      "execution_count": null,
      "outputs": [
        {
          "output_type": "stream",
          "name": "stdout",
          "text": [
            "Fuzzy Union: {'y1': 0.6, 'y2': 0.4, 'x1': 0.3, 'x2': 0.7}\n",
            "\n",
            "Fuzzy Intersection: {'y1': 0, 'y2': 0, 'x1': 0, 'x2': 0}\n",
            "\n",
            "Fuzzy Complement of A: {'x1': 0.7, 'x2': 0.3}\n",
            "\n",
            "Fuzzy Difference (A - B): {'y1': 0, 'y2': 0, 'x1': 0.3, 'x2': 0.7}\n",
            "\n",
            "Fuzzy Cartesian Product (A x B): {('x1', 'y1'): 0.3, ('x1', 'y2'): 0.3, ('x2', 'y1'): 0.6, ('x2', 'y2'): 0.4}\n",
            "\n",
            "Max-Min Composition (R ∘ S): {('x1', 'z1'): 0.7}\n"
          ]
        }
      ]
    },
    {
      "cell_type": "code",
      "source": [],
      "metadata": {
        "id": "c670mpUkJsVh"
      },
      "execution_count": null,
      "outputs": []
    }
  ]
}