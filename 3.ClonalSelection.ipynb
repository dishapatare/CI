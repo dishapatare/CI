{
  "nbformat": 4,
  "nbformat_minor": 0,
  "metadata": {
    "colab": {
      "provenance": []
    },
    "kernelspec": {
      "name": "python3",
      "display_name": "Python 3"
    },
    "language_info": {
      "name": "python"
    }
  },
  "cells": [
    {
      "cell_type": "markdown",
      "source": [
        "**Name : Disha Patare** <br>\n",
        "**Problem Statement:**\n",
        "Implementation of Clonal selection algorithm using Python."
      ],
      "metadata": {
        "id": "deosxiyrN6es"
      }
    },
    {
      "cell_type": "code",
      "execution_count": null,
      "metadata": {
        "id": "L4mTz3XpN2hW"
      },
      "outputs": [],
      "source": [
        "import numpy as np"
      ]
    },
    {
      "cell_type": "markdown",
      "source": [
        "**Defining Objective function**"
      ],
      "metadata": {
        "id": "2PgPs79DOEtC"
      }
    },
    {
      "cell_type": "code",
      "source": [
        "# Example: minimize f(x) = x^2)\n",
        "def objective_function(x):\n",
        "    return x**2"
      ],
      "metadata": {
        "id": "mPeGUif9OC7D"
      },
      "execution_count": null,
      "outputs": []
    },
    {
      "cell_type": "markdown",
      "source": [
        "**Clonal Selection Algorithm**"
      ],
      "metadata": {
        "id": "KVnYoYgoON0T"
      }
    },
    {
      "cell_type": "code",
      "source": [
        "def clonal_selection_algorithm(population_size, num_clones, mutation_rate, num_generations, search_space):\n",
        "    # Initialize population\n",
        "    population = np.random.uniform(search_space[0], search_space[1], population_size)\n",
        "\n",
        "    for generation in range(num_generations):\n",
        "        # Evaluate fitness\n",
        "        fitness = np.array([objective_function(x) for x in population])\n",
        "\n",
        "        # Select best antibodies\n",
        "        sorted_indices = np.argsort(fitness)\n",
        "        selected_antibodies = population[sorted_indices[:num_clones]]\n",
        "\n",
        "        # Clone and mutate\n",
        "        clones = np.repeat(selected_antibodies, num_clones)\n",
        "        mutations = np.random.normal(0, mutation_rate, clones.shape)\n",
        "        clones = clones + mutations\n",
        "        clones = np.clip(clones, search_space[0], search_space[1])  # Ensure clones stay within search space\n",
        "\n",
        "        # Replace population\n",
        "        population = np.concatenate((clones, np.random.uniform(search_space[0], search_space[1], population_size - num_clones)))\n",
        "\n",
        "        # Track best solution\n",
        "        best_fitness = np.min(fitness)\n",
        "        best_solution = population[np.argmin(fitness)]\n",
        "        print(f\"Generation {generation + 1}: Best Fitness = {best_fitness}, Best Solution = {best_solution}\")\n",
        "\n",
        "    return best_solution, best_fitness"
      ],
      "metadata": {
        "id": "QLmtxUwpOMY7"
      },
      "execution_count": null,
      "outputs": []
    },
    {
      "cell_type": "markdown",
      "source": [
        "**Setting Parameters**"
      ],
      "metadata": {
        "id": "BYth7yrfOTFh"
      }
    },
    {
      "cell_type": "code",
      "source": [
        "population_size = 20\n",
        "num_clones = 5\n",
        "mutation_rate = 0.1\n",
        "num_generations = 50\n",
        "search_space = (-10, 10)  # Define the search space for x"
      ],
      "metadata": {
        "id": "PoRz2x1UORdB"
      },
      "execution_count": null,
      "outputs": []
    },
    {
      "cell_type": "markdown",
      "source": [
        "**Extracting Best Solution**"
      ],
      "metadata": {
        "id": "MAQqE1KXOYJf"
      }
    },
    {
      "cell_type": "code",
      "source": [
        "best_solution, best_fitness = clonal_selection_algorithm(population_size, num_clones, mutation_rate, num_generations, search_space)\n",
        "print(\"\\nFinal Result:\")\n",
        "print(f\"Best Solution: {best_solution}\")\n",
        "print(f\"Best Fitness: {best_fitness}\")"
      ],
      "metadata": {
        "colab": {
          "base_uri": "https://localhost:8080/"
        },
        "id": "1r9wGjSkOWq3",
        "outputId": "b00baeaa-c255-4cb2-e0a0-399cebead9df"
      },
      "execution_count": null,
      "outputs": [
        {
          "output_type": "stream",
          "name": "stdout",
          "text": [
            "Generation 1: Best Fitness = 0.03541546005019272, Best Solution = 0.4840489878975754\n",
            "Generation 2: Best Fitness = 0.003441180736414254, Best Solution = 0.08720483411587601\n",
            "Generation 3: Best Fitness = 0.00020905535049811977, Best Solution = 0.013459679846824656\n",
            "Generation 4: Best Fitness = 4.2375989513416063e-05, Best Solution = 0.014618478808944055\n",
            "Generation 5: Best Fitness = 0.0002136999226875464, Best Solution = 0.04389335761780629\n",
            "Generation 6: Best Fitness = 6.128480457841615e-07, Best Solution = -0.05341284564464401\n",
            "Generation 7: Best Fitness = 7.690338902203588e-06, Best Solution = 0.23078799579985898\n",
            "Generation 8: Best Fitness = 1.2970866040865227e-05, Best Solution = -0.008660289043082846\n",
            "Generation 9: Best Fitness = 2.3923641803092586e-05, Best Solution = 0.17795761317590897\n",
            "Generation 10: Best Fitness = 2.850347866144288e-05, Best Solution = 0.006041431404538172\n",
            "Generation 11: Best Fitness = 6.168567179596781e-06, Best Solution = -0.09894931090274185\n",
            "Generation 12: Best Fitness = 2.8500152604475424e-05, Best Solution = -0.035868976704301864\n",
            "Generation 13: Best Fitness = 1.851926614578983e-05, Best Solution = 0.1623514828679561\n",
            "Generation 14: Best Fitness = 1.825040951858584e-05, Best Solution = -0.02997498971153106\n",
            "Generation 15: Best Fitness = 1.215851636322577e-06, Best Solution = -0.1593750582978366\n",
            "Generation 16: Best Fitness = 1.0652642953620561e-05, Best Solution = 0.034168093893937414\n",
            "Generation 17: Best Fitness = 6.213641798929654e-05, Best Solution = -0.06190828553541685\n",
            "Generation 18: Best Fitness = 2.443840623402366e-06, Best Solution = -0.0934820027323798\n",
            "Generation 19: Best Fitness = 2.2167476994492573e-05, Best Solution = -0.04351425761966175\n",
            "Generation 20: Best Fitness = 5.339110301710463e-06, Best Solution = 0.005208635058692679\n",
            "Generation 21: Best Fitness = 8.051277821705577e-06, Best Solution = 0.05657190335977048\n",
            "Generation 22: Best Fitness = 0.0002767182540167402, Best Solution = -0.18957101880694166\n",
            "Generation 23: Best Fitness = 4.525371236786676e-06, Best Solution = 0.14620060847611882\n",
            "Generation 24: Best Fitness = 2.431615932143047e-05, Best Solution = 0.1095929954755624\n",
            "Generation 25: Best Fitness = 3.386147917719408e-05, Best Solution = 0.10288225058495437\n",
            "Generation 26: Best Fitness = 9.84644860649483e-07, Best Solution = -0.12455795793642731\n",
            "Generation 27: Best Fitness = 1.6039076809294263e-05, Best Solution = -0.11767331018357935\n",
            "Generation 28: Best Fitness = 0.00016211272043307085, Best Solution = -0.02564222226923613\n",
            "Generation 29: Best Fitness = 8.621497725729094e-05, Best Solution = 0.059739705830639936\n",
            "Generation 30: Best Fitness = 4.465750954440863e-05, Best Solution = -0.1606417053087587\n",
            "Generation 31: Best Fitness = 9.756026641625202e-08, Best Solution = 0.13118468283067308\n",
            "Generation 32: Best Fitness = 7.441743674732669e-05, Best Solution = -0.1087892057385741\n",
            "Generation 33: Best Fitness = 8.592244207703745e-05, Best Solution = 0.21052826969410873\n",
            "Generation 34: Best Fitness = 1.2983659406609115e-05, Best Solution = 0.1654909150350928\n",
            "Generation 35: Best Fitness = 1.0003622507118955e-05, Best Solution = -0.061822247524005156\n",
            "Generation 36: Best Fitness = 6.351323434307157e-05, Best Solution = 0.12088324418875779\n",
            "Generation 37: Best Fitness = 6.710406488313575e-07, Best Solution = -0.03562761170987257\n",
            "Generation 38: Best Fitness = 5.055232339490325e-05, Best Solution = -0.062210706798876164\n",
            "Generation 39: Best Fitness = 9.239092687050833e-06, Best Solution = -0.03248829531826193\n",
            "Generation 40: Best Fitness = 1.0792291159130413e-05, Best Solution = -0.040905257587343494\n",
            "Generation 41: Best Fitness = 1.602447745616415e-06, Best Solution = 0.05131059480954009\n",
            "Generation 42: Best Fitness = 1.6175937285219371e-06, Best Solution = 0.07313125503585491\n",
            "Generation 43: Best Fitness = 2.188093498098919e-05, Best Solution = 0.12147583930954892\n",
            "Generation 44: Best Fitness = 0.00014118033983003643, Best Solution = 0.14820509764934126\n",
            "Generation 45: Best Fitness = 1.661587747731846e-05, Best Solution = 0.034497780263248616\n",
            "Generation 46: Best Fitness = 3.072607127780807e-05, Best Solution = -0.1653869639893902\n",
            "Generation 47: Best Fitness = 1.978502695141635e-06, Best Solution = -0.0021476491470744214\n",
            "Generation 48: Best Fitness = 8.522531364463723e-09, Best Solution = -0.027957540228645397\n",
            "Generation 49: Best Fitness = 2.4894962701443007e-05, Best Solution = -0.08209977431154217\n",
            "Generation 50: Best Fitness = 4.87349826231847e-06, Best Solution = 0.09361642359738448\n",
            "\n",
            "Final Result:\n",
            "Best Solution: 0.09361642359738448\n",
            "Best Fitness: 4.87349826231847e-06\n"
          ]
        }
      ]
    },
    {
      "cell_type": "code",
      "source": [],
      "metadata": {
        "id": "T0sS_yciObuC"
      },
      "execution_count": null,
      "outputs": []
    }
  ]
}