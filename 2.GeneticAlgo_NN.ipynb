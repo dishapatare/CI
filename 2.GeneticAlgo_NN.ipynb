{
  "nbformat": 4,
  "nbformat_minor": 0,
  "metadata": {
    "colab": {
      "provenance": []
    },
    "kernelspec": {
      "name": "python3",
      "display_name": "Python 3"
    },
    "language_info": {
      "name": "python"
    }
  },
  "cells": [
    {
      "cell_type": "markdown",
      "source": [
        "**Name : Disha Patare** <br>\n",
        "**Problem Statement:**\n",
        "Optimization of genetic algorithm parameter in hybrid genetic algorithm-neural network modelling: Application to spray drying of coconut milk."
      ],
      "metadata": {
        "id": "crT4-GYIMznK"
      }
    },
    {
      "cell_type": "code",
      "source": [
        "from IPython import get_ipython\n",
        "from IPython.display import display\n",
        "!pip install deap"
      ],
      "metadata": {
        "colab": {
          "base_uri": "https://localhost:8080/"
        },
        "id": "UYlRp-QyK7WO",
        "outputId": "ca67f6e5-94d0-4941-a32f-9f66e6fa4caa"
      },
      "execution_count": null,
      "outputs": [
        {
          "output_type": "stream",
          "name": "stdout",
          "text": [
            "Requirement already satisfied: deap in /usr/local/lib/python3.11/dist-packages (1.4.2)\n",
            "Requirement already satisfied: numpy in /usr/local/lib/python3.11/dist-packages (from deap) (1.26.4)\n"
          ]
        }
      ]
    },
    {
      "cell_type": "code",
      "execution_count": null,
      "metadata": {
        "id": "xkkSRLzXKgJq"
      },
      "outputs": [],
      "source": [
        "import numpy as np\n",
        "from sklearn.neural_network import MLPRegressor\n",
        "from deap import base, creator, tools, algorithms"
      ]
    },
    {
      "cell_type": "markdown",
      "source": [
        "**Defining Neural Network Model**"
      ],
      "metadata": {
        "id": "DAvvu3guNDAf"
      }
    },
    {
      "cell_type": "code",
      "source": [
        "def create_nn_model(X_train, y_train):\n",
        "    model = MLPRegressor(hidden_layer_sizes=(10, 10), max_iter=1000, random_state=42)\n",
        "    model.fit(X_train, y_train)\n",
        "    return model"
      ],
      "metadata": {
        "id": "W_URiIv2KovQ"
      },
      "execution_count": null,
      "outputs": []
    },
    {
      "cell_type": "markdown",
      "source": [
        "**Defining Fitness Function for GA**"
      ],
      "metadata": {
        "id": "-0aMps7SNGV3"
      }
    },
    {
      "cell_type": "code",
      "source": [
        "def evaluate(individual):\n",
        "    inlet_temp, feed_flow, atomization_pressure = individual\n",
        "    predicted_output = nn_model.predict([[inlet_temp, feed_flow, atomization_pressure]])\n",
        "    fitness = predicted_output[0]\n",
        "    return (fitness,)"
      ],
      "metadata": {
        "id": "qLSRXAf-K-jQ"
      },
      "execution_count": null,
      "outputs": []
    },
    {
      "cell_type": "markdown",
      "source": [
        "**Setting up GA**"
      ],
      "metadata": {
        "id": "k3O4Sr3cNK5p"
      }
    },
    {
      "cell_type": "code",
      "source": [
        "creator.create(\"FitnessMax\", base.Fitness, weights=(1.0,))\n",
        "creator.create(\"Individual\", list, fitness=creator.FitnessMax)\n",
        "\n",
        "toolbox = base.Toolbox()\n",
        "toolbox.register(\"attr_float\", np.random.uniform, 100, 200)  # Inlet temperature range\n",
        "toolbox.register(\"attr_flow\", np.random.uniform, 10, 50)     # Feed flow rate range\n",
        "toolbox.register(\"attr_pressure\", np.random.uniform, 1, 5)   # Atomization pressure range\n",
        "toolbox.register(\"individual\", tools.initCycle, creator.Individual,\n",
        "                 (toolbox.attr_float, toolbox.attr_flow, toolbox.attr_pressure), n=1)\n",
        "toolbox.register(\"population\", tools.initRepeat, list, toolbox.individual)\n",
        "\n",
        "toolbox.register(\"evaluate\", evaluate)\n",
        "toolbox.register(\"mate\", tools.cxBlend, alpha=0.5)\n",
        "toolbox.register(\"mutate\", tools.mutGaussian, mu=0, sigma=1, indpb=0.2)\n",
        "toolbox.register(\"select\", tools.selTournament, tournsize=3)"
      ],
      "metadata": {
        "colab": {
          "base_uri": "https://localhost:8080/"
        },
        "id": "DsOPWK3hLCZZ",
        "outputId": "5753abbe-9c8f-4249-b116-9201a3e2180d"
      },
      "execution_count": null,
      "outputs": [
        {
          "output_type": "stream",
          "name": "stderr",
          "text": [
            "/usr/local/lib/python3.11/dist-packages/deap/creator.py:185: RuntimeWarning: A class named 'FitnessMax' has already been created and it will be overwritten. Consider deleting previous creation of that class or rename it.\n",
            "  warnings.warn(\"A class named '{0}' has already been created and it \"\n",
            "/usr/local/lib/python3.11/dist-packages/deap/creator.py:185: RuntimeWarning: A class named 'Individual' has already been created and it will be overwritten. Consider deleting previous creation of that class or rename it.\n",
            "  warnings.warn(\"A class named '{0}' has already been created and it \"\n"
          ]
        }
      ]
    },
    {
      "cell_type": "markdown",
      "source": [
        "**Training Sample Data**"
      ],
      "metadata": {
        "id": "ZkLb4UchNPWH"
      }
    },
    {
      "cell_type": "code",
      "source": [
        "X_train = np.array([[150, 30, 3], [160, 35, 4], [170, 40, 2]])\n",
        "y_train = np.array([0.85, 0.90, 0.80])\n",
        "nn_model = create_nn_model(X_train, y_train)"
      ],
      "metadata": {
        "id": "JnfPNn_KLH35"
      },
      "execution_count": null,
      "outputs": []
    },
    {
      "cell_type": "markdown",
      "source": [
        "**Running Genetic Algorithm**"
      ],
      "metadata": {
        "id": "MvnmSpj7NTVB"
      }
    },
    {
      "cell_type": "code",
      "source": [
        "population = toolbox.population(n=50)\n",
        "ngen, cxpb, mutpb = 40, 0.7, 0.2\n",
        "algorithms.eaSimple(population, toolbox, cxpb, mutpb, ngen, verbose=True)"
      ],
      "metadata": {
        "colab": {
          "base_uri": "https://localhost:8080/"
        },
        "id": "C_ONSH2hLJxb",
        "outputId": "da61174e-13a3-4e12-c980-2cc49429e182"
      },
      "execution_count": null,
      "outputs": [
        {
          "output_type": "stream",
          "name": "stdout",
          "text": [
            "gen\tnevals\n",
            "0  \t50    \n",
            "1  \t42    \n",
            "2  \t39    \n",
            "3  \t31    \n",
            "4  \t29    \n",
            "5  \t36    \n",
            "6  \t44    \n",
            "7  \t34    \n",
            "8  \t33    \n",
            "9  \t35    \n",
            "10 \t39    \n",
            "11 \t40    \n",
            "12 \t42    \n",
            "13 \t45    \n",
            "14 \t35    \n",
            "15 \t40    \n",
            "16 \t33    \n",
            "17 \t34    \n",
            "18 \t40    \n",
            "19 \t38    \n",
            "20 \t34    \n",
            "21 \t42    \n",
            "22 \t30    \n",
            "23 \t38    \n",
            "24 \t36    \n",
            "25 \t38    \n",
            "26 \t36    \n",
            "27 \t34    \n",
            "28 \t35    \n",
            "29 \t34    \n",
            "30 \t36    \n",
            "31 \t35    \n",
            "32 \t38    \n",
            "33 \t44    \n",
            "34 \t36    \n",
            "35 \t44    \n",
            "36 \t34    \n",
            "37 \t38    \n",
            "38 \t34    \n",
            "39 \t39    \n",
            "40 \t41    \n"
          ]
        },
        {
          "output_type": "execute_result",
          "data": {
            "text/plain": [
              "([[246.61692086742977, -6.483496904330671, -7.5601277955123525],\n",
              "  [249.90146490658233, -6.409927179834774, -6.151346412687209],\n",
              "  [249.38109892472966, -5.737257057573759, -9.191679840739422],\n",
              "  [249.48004607612697, -4.197439608165629, -9.632127570611086],\n",
              "  [247.44546112285536, -4.585752769151284, -9.474535370005091],\n",
              "  [249.68099027729886, -4.385639939980312, -7.946303724459963],\n",
              "  [247.18191517560822, -4.627416326720718, -7.687774352651431],\n",
              "  [247.25303248169945, -5.646703380842386, -9.030484916588069],\n",
              "  [247.29001104252652, -5.132847292337976, -8.935408706797878],\n",
              "  [247.25913102875165, -5.119089721639301, -9.18884390972582],\n",
              "  [247.67122547478112, -5.090466868932747, -8.267351810238267],\n",
              "  [249.47660796025525, -4.493023412780078, -9.281543868914394],\n",
              "  [250.58751257370224, -5.113823770453901, -9.56060004545095],\n",
              "  [246.34642281162127, -4.964901025686578, -9.602797204672365],\n",
              "  [248.3935863953967, -6.318024525562307, -8.05261522892394],\n",
              "  [248.66971835679885, -5.245332863605559, -9.256974417744225],\n",
              "  [249.87178136799642, -3.8674921617399343, -8.136960727773522],\n",
              "  [248.803962428521, -6.987495243611647, -9.588476112620945],\n",
              "  [246.78064178080683, -5.737234598308633, -7.101898411563754],\n",
              "  [247.4858286253383, -6.121684136208556, -7.76732610423205],\n",
              "  [247.48031133895918, -6.03319122817742, -9.57874883327758],\n",
              "  [247.29443964042747, -1.005491380098472, -9.35801755552092],\n",
              "  [247.8742029135101, -4.287501832705203, -9.649626075465472],\n",
              "  [247.34691184955682, -4.3326934700760535, -8.60701356169773],\n",
              "  [248.0335570967606, -5.495303826432106, -9.827718664974515],\n",
              "  [248.4460955993431, -4.393780656713094, -8.768988907013886],\n",
              "  [246.67499758013923, -5.227106077052592, -8.166552776496687],\n",
              "  [247.25700067729488, -4.632499207162368, -9.154166350155803],\n",
              "  [249.51707692560723, -5.601216732224165, -7.599509987895823],\n",
              "  [249.39104562246104, -5.920005375709257, -9.908398507294908],\n",
              "  [247.90471606710489, -3.635674611044723, -8.0580385185288],\n",
              "  [247.61678177971092, -4.526555106706643, -8.014585606699537],\n",
              "  [248.97328084064134, -5.46552797691428, -8.858928787847606],\n",
              "  [249.72738872385332, -5.22817821600906, -9.658908618889708],\n",
              "  [249.57747612685725, -5.44167325295931, -9.542263542436114],\n",
              "  [247.3564592584663, -4.637051543181169, -9.621133707687202],\n",
              "  [247.41876844271326, -5.14170259658316, -8.67626207188667],\n",
              "  [247.74017638488544, -4.874087301641479, -8.329741093680445],\n",
              "  [249.50877757617243, -5.141663109187547, -9.280253041238083],\n",
              "  [247.00183813185507, -5.088594901901164, -9.174869964953224],\n",
              "  [246.87851810182633, -5.313998384485525, -8.793032489090947],\n",
              "  [246.92081447494894, -4.643993834642997, -10.388638353290798],\n",
              "  [247.3278474447279, -8.42207811344446, -8.79255141471979],\n",
              "  [247.3279088673844, -3.3607928438819763, -8.860730270042415],\n",
              "  [247.16289824506404, -7.014206641543899, -8.829556446922668],\n",
              "  [247.18833176051146, -4.773591006819947, -7.2143225278233665],\n",
              "  [248.04297594062442, -5.099646374182452, -8.885580530724663],\n",
              "  [246.62783503239652, -6.032977767927076, -8.014743250667891],\n",
              "  [247.67122547478112, -5.090466868932747, -8.267351810238267],\n",
              "  [247.16349065277453, -4.808683084186059, -10.298049719301092]],\n",
              " [{'gen': 0, 'nevals': 50},\n",
              "  {'gen': 1, 'nevals': 42},\n",
              "  {'gen': 2, 'nevals': 39},\n",
              "  {'gen': 3, 'nevals': 31},\n",
              "  {'gen': 4, 'nevals': 29},\n",
              "  {'gen': 5, 'nevals': 36},\n",
              "  {'gen': 6, 'nevals': 44},\n",
              "  {'gen': 7, 'nevals': 34},\n",
              "  {'gen': 8, 'nevals': 33},\n",
              "  {'gen': 9, 'nevals': 35},\n",
              "  {'gen': 10, 'nevals': 39},\n",
              "  {'gen': 11, 'nevals': 40},\n",
              "  {'gen': 12, 'nevals': 42},\n",
              "  {'gen': 13, 'nevals': 45},\n",
              "  {'gen': 14, 'nevals': 35},\n",
              "  {'gen': 15, 'nevals': 40},\n",
              "  {'gen': 16, 'nevals': 33},\n",
              "  {'gen': 17, 'nevals': 34},\n",
              "  {'gen': 18, 'nevals': 40},\n",
              "  {'gen': 19, 'nevals': 38},\n",
              "  {'gen': 20, 'nevals': 34},\n",
              "  {'gen': 21, 'nevals': 42},\n",
              "  {'gen': 22, 'nevals': 30},\n",
              "  {'gen': 23, 'nevals': 38},\n",
              "  {'gen': 24, 'nevals': 36},\n",
              "  {'gen': 25, 'nevals': 38},\n",
              "  {'gen': 26, 'nevals': 36},\n",
              "  {'gen': 27, 'nevals': 34},\n",
              "  {'gen': 28, 'nevals': 35},\n",
              "  {'gen': 29, 'nevals': 34},\n",
              "  {'gen': 30, 'nevals': 36},\n",
              "  {'gen': 31, 'nevals': 35},\n",
              "  {'gen': 32, 'nevals': 38},\n",
              "  {'gen': 33, 'nevals': 44},\n",
              "  {'gen': 34, 'nevals': 36},\n",
              "  {'gen': 35, 'nevals': 44},\n",
              "  {'gen': 36, 'nevals': 34},\n",
              "  {'gen': 37, 'nevals': 38},\n",
              "  {'gen': 38, 'nevals': 34},\n",
              "  {'gen': 39, 'nevals': 39},\n",
              "  {'gen': 40, 'nevals': 41}])"
            ]
          },
          "metadata": {},
          "execution_count": 25
        }
      ]
    },
    {
      "cell_type": "markdown",
      "source": [
        "**Extracting Best Solution**"
      ],
      "metadata": {
        "id": "Ej9A5wEINYE_"
      }
    },
    {
      "cell_type": "code",
      "source": [
        "best_individual = tools.selBest(population, k=1)[0]\n",
        "print(\"Best Parameters:\", best_individual)\n",
        "print(\"Predicted Powder Yield:\", evaluate(best_individual)[0])"
      ],
      "metadata": {
        "colab": {
          "base_uri": "https://localhost:8080/"
        },
        "id": "Kd5mbLqZLMnf",
        "outputId": "b2c81369-ab05-4736-93e7-23ef8d6afa4f"
      },
      "execution_count": null,
      "outputs": [
        {
          "output_type": "stream",
          "name": "stdout",
          "text": [
            "Best Parameters: [247.3278474447279, -8.42207811344446, -8.79255141471979]\n",
            "Predicted Powder Yield: 43.45250213557553\n"
          ]
        }
      ]
    },
    {
      "cell_type": "code",
      "source": [],
      "metadata": {
        "id": "OOZqB0c1MvT_"
      },
      "execution_count": null,
      "outputs": []
    }
  ]
}